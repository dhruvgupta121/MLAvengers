{
  "metadata": {
    "kernelspec": {
      "language": "python",
      "display_name": "Python 3",
      "name": "python3"
    },
    "language_info": {
      "pygments_lexer": "ipython3",
      "nbconvert_exporter": "python",
      "version": "3.6.4",
      "file_extension": ".py",
      "codemirror_mode": {
        "name": "ipython",
        "version": 3
      },
      "name": "python",
      "mimetype": "text/x-python"
    },
    "colab": {
      "provenance": []
    }
  },
  "nbformat_minor": 0,
  "nbformat": 4,
  "cells": [
    {
      "cell_type": "code",
      "source": [
        "# This Python 3 environment comes with many helpful analytics libraries installed\n",
        "# It is defined by the kaggle/python Docker image: https://github.com/kaggle/docker-python\n",
        "# For example, here's several helpful packages to load\n",
        "\n",
        "import numpy as np # linear algebra\n",
        "import pandas as pd # data processing, CSV file I/O (e.g. pd.read_csv)\n",
        "\n",
        "# Input data files are available in the read-only \"../input/\" directory\n",
        "# For example, running this (by clicking run or pressing Shift+Enter) will list all files under the input directory\n",
        "\n",
        "import os\n",
        "for dirname, _, filenames in os.walk('/kaggle/input'):\n",
        "    for filename in filenames:\n",
        "        print(os.path.join(dirname, filename))\n",
        "\n",
        "# You can write up to 20GB to the current directory (/kaggle/working/) that gets preserved as output when you create a version using \"Save & Run All\" \n",
        "# You can also write temporary files to /kaggle/temp/, but they won't be saved outside of the current session"
      ],
      "metadata": {
        "_uuid": "8f2839f25d086af736a60e9eeb907d3b93b6e0e5",
        "_cell_guid": "b1076dfc-b9ad-4769-8c92-a6c4dae69d19",
        "trusted": true,
        "id": "EpZGDzM5gAEM"
      },
      "execution_count": null,
      "outputs": []
    },
    {
      "cell_type": "code",
      "source": [
        "from sklearn import preprocessing\n",
        "from sklearn.decomposition import PCA\n",
        "from sklearn.preprocessing import minmax_scale\n",
        "from sklearn.model_selection import train_test_split\n",
        "from sklearn.metrics import roc_curve\n",
        "from sklearn.metrics import roc_auc_score\n",
        "from hyperopt import hp, tpe\n",
        "from hyperopt.fmin import fmin"
      ],
      "metadata": {
        "execution": {
          "iopub.status.busy": "2022-11-21T06:38:42.192357Z",
          "iopub.execute_input": "2022-11-21T06:38:42.194394Z",
          "iopub.status.idle": "2022-11-21T06:38:42.199356Z",
          "shell.execute_reply.started": "2022-11-21T06:38:42.194365Z",
          "shell.execute_reply": "2022-11-21T06:38:42.198349Z"
        },
        "trusted": true,
        "id": "7sr1vKZ1gAEO"
      },
      "execution_count": null,
      "outputs": []
    },
    {
      "cell_type": "code",
      "source": [
        "def reduce_mem_usage(df, verbose=True):\n",
        "    numerics = ['int16', 'int32', 'int64', 'float16', 'float32', 'float64']\n",
        "    start_mem = df.memory_usage().sum() / 1024**2    \n",
        "    for col in df.columns:\n",
        "        col_type = df[col].dtypes\n",
        "        if col_type in numerics:\n",
        "            c_min = df[col].min()\n",
        "            c_max = df[col].max()\n",
        "            if str(col_type)[:3] == 'int':\n",
        "                if c_min > np.iinfo(np.int8).min and c_max < np.iinfo(np.int8).max:\n",
        "                    df[col] = df[col].astype(np.int8)\n",
        "                elif c_min > np.iinfo(np.int16).min and c_max < np.iinfo(np.int16).max:\n",
        "                    df[col] = df[col].astype(np.int16)\n",
        "                elif c_min > np.iinfo(np.int32).min and c_max < np.iinfo(np.int32).max:\n",
        "                    df[col] = df[col].astype(np.int32)\n",
        "                elif c_min > np.iinfo(np.int64).min and c_max < np.iinfo(np.int64).max:\n",
        "                    df[col] = df[col].astype(np.int64)  \n",
        "            else:\n",
        "                if c_min > np.finfo(np.float16).min and c_max < np.finfo(np.float16).max:\n",
        "                    df[col] = df[col].astype(np.float16)\n",
        "                elif c_min > np.finfo(np.float32).min and c_max < np.finfo(np.float32).max:\n",
        "                    df[col] = df[col].astype(np.float32)\n",
        "                else:\n",
        "                    df[col] = df[col].astype(np.float64)    \n",
        "    end_mem = df.memory_usage().sum() / 1024**2\n",
        "    if verbose: print('Mem. usage decreased to {:5.2f} Mb ({:.1f}% reduction)'.format(end_mem, 100 * (start_mem - end_mem) / start_mem))\n",
        "    return df"
      ],
      "metadata": {
        "execution": {
          "iopub.status.busy": "2022-11-21T06:38:42.214145Z",
          "iopub.execute_input": "2022-11-21T06:38:42.214411Z",
          "iopub.status.idle": "2022-11-21T06:38:42.227479Z",
          "shell.execute_reply.started": "2022-11-21T06:38:42.214386Z",
          "shell.execute_reply": "2022-11-21T06:38:42.226579Z"
        },
        "trusted": true,
        "id": "8W62dfOAgAEP"
      },
      "execution_count": null,
      "outputs": []
    },
    {
      "cell_type": "code",
      "source": [
        "\n",
        "train_full = pd.read_csv(\"../input/its-fraud/train.csv\")\n",
        "\n",
        "test_full = pd.read_csv(\"../input/its-fraud/test.csv\")\n",
        "\n",
        "train_full = reduce_mem_usage(train_full)"
      ],
      "metadata": {
        "execution": {
          "iopub.status.busy": "2022-11-21T06:38:42.232832Z",
          "iopub.execute_input": "2022-11-21T06:38:42.233776Z",
          "iopub.status.idle": "2022-11-21T06:40:21.859142Z",
          "shell.execute_reply.started": "2022-11-21T06:38:42.233731Z",
          "shell.execute_reply": "2022-11-21T06:40:21.857023Z"
        },
        "trusted": true,
        "id": "DlIVHmPcgAEP"
      },
      "execution_count": null,
      "outputs": []
    },
    {
      "cell_type": "markdown",
      "source": [
        "## Feature Selection\n",
        "\n",
        "In the baseline model, we learned that the information poor features such as TransactionDT was among the most important features. We will try Boruta, a method of eliminating these features by only capture the important, interesting features that have high degree of influence on the target variable."
      ],
      "metadata": {
        "id": "_v71lE_sgAEQ"
      }
    },
    {
      "cell_type": "code",
      "source": [
        "# log transformation on TransactionAMT variable \n",
        "train_full['TransactionAmt'] = np.log(train_full['TransactionAmt'])\n",
        "test_full['TransactionAmt'] = np.log(test_full['TransactionAmt'])"
      ],
      "metadata": {
        "execution": {
          "iopub.status.busy": "2022-11-21T06:40:21.861037Z",
          "iopub.execute_input": "2022-11-21T06:40:21.861924Z",
          "iopub.status.idle": "2022-11-21T06:40:21.877473Z",
          "shell.execute_reply.started": "2022-11-21T06:40:21.861883Z",
          "shell.execute_reply": "2022-11-21T06:40:21.876631Z"
        },
        "trusted": true,
        "id": "0pJDPlx9gAER"
      },
      "execution_count": null,
      "outputs": []
    },
    {
      "cell_type": "code",
      "source": [
        "# create lists to store categorical variables\n",
        "v_features = [\"V\"+str(i) for i in np.arange(1, 340, 1)]\n",
        "C_cols = [\"C\"+str(i) for i in np.arange(1, 15, 1)]\n",
        "card_cols = [\"card\"+str(i) for i in np.arange(1, 7, 1)]\n",
        "D_cols = [\"D\"+str(i) for i in np.arange(1, 16, 1)]\n",
        "addr_cols = [\"addr\"+str(i) for i in np.arange(1, 3, 1)]\n",
        "id_cols = [\"id_\"+str(i) for i in np.arange(12, 39, 1)]"
      ],
      "metadata": {
        "execution": {
          "iopub.status.busy": "2022-11-21T06:40:21.879350Z",
          "iopub.execute_input": "2022-11-21T06:40:21.879936Z",
          "iopub.status.idle": "2022-11-21T06:40:21.887859Z",
          "shell.execute_reply.started": "2022-11-21T06:40:21.879900Z",
          "shell.execute_reply": "2022-11-21T06:40:21.886867Z"
        },
        "trusted": true,
        "id": "6NZ5TVecgAER"
      },
      "execution_count": null,
      "outputs": []
    },
    {
      "cell_type": "code",
      "source": [
        "# create a function to perform pca transformation to reduce the number of variables\n",
        "def PCA_transform(df, cols,prefix, n_features):\n",
        "    pca = PCA(n_components = n_features, random_state=101)\n",
        "    pca_model = pca.fit_transform(df[cols])\n",
        "    pca_df = pd.DataFrame(pca_model)\n",
        "    df.drop(cols, axis=1, inplace=True)\n",
        "    pca_df.rename(columns=lambda x: str(prefix)+str(x), inplace=True)\n",
        "    df = pd.concat([df, pca_df], axis=1)\n",
        "    return df"
      ],
      "metadata": {
        "execution": {
          "iopub.status.busy": "2022-11-21T06:40:21.891101Z",
          "iopub.execute_input": "2022-11-21T06:40:21.891523Z",
          "iopub.status.idle": "2022-11-21T06:40:21.902393Z",
          "shell.execute_reply.started": "2022-11-21T06:40:21.891481Z",
          "shell.execute_reply": "2022-11-21T06:40:21.901457Z"
        },
        "trusted": true,
        "id": "63dKr1gegAER"
      },
      "execution_count": null,
      "outputs": []
    },
    {
      "cell_type": "code",
      "source": [
        "# since pca does not accept NA values, we will fill na with -1 \n",
        "# before pca transformation the data need to be scaled from 0 to 1 \n",
        "def fill_na_features (df,features):\n",
        "    for col in features:\n",
        "        df[col] = df[col].fillna((df[col].min() - 1))\n",
        "        df[col] = (minmax_scale(df[col], feature_range=(0,1)))\n",
        "    return df"
      ],
      "metadata": {
        "execution": {
          "iopub.status.busy": "2022-11-21T06:40:21.903758Z",
          "iopub.execute_input": "2022-11-21T06:40:21.904236Z",
          "iopub.status.idle": "2022-11-21T06:40:21.914001Z",
          "shell.execute_reply.started": "2022-11-21T06:40:21.904201Z",
          "shell.execute_reply": "2022-11-21T06:40:21.913080Z"
        },
        "trusted": true,
        "id": "iJPGxRdwgAER"
      },
      "execution_count": null,
      "outputs": []
    },
    {
      "cell_type": "code",
      "source": [
        "merged_train_df = train_full\n",
        "merged_test_df = test_full"
      ],
      "metadata": {
        "execution": {
          "iopub.status.busy": "2022-11-21T06:40:21.915270Z",
          "iopub.execute_input": "2022-11-21T06:40:21.915735Z",
          "iopub.status.idle": "2022-11-21T06:40:21.923581Z",
          "shell.execute_reply.started": "2022-11-21T06:40:21.915700Z",
          "shell.execute_reply": "2022-11-21T06:40:21.922609Z"
        },
        "trusted": true,
        "id": "y7vuEtwOgAES"
      },
      "execution_count": null,
      "outputs": []
    },
    {
      "cell_type": "code",
      "source": [
        "merged_train_df = fill_na_features(merged_train_df,v_features)\n",
        "merged_test_df = fill_na_features(merged_test_df,v_features)"
      ],
      "metadata": {
        "execution": {
          "iopub.status.busy": "2022-11-21T06:40:21.925169Z",
          "iopub.execute_input": "2022-11-21T06:40:21.925511Z",
          "iopub.status.idle": "2022-11-21T06:40:35.102645Z",
          "shell.execute_reply.started": "2022-11-21T06:40:21.925478Z",
          "shell.execute_reply": "2022-11-21T06:40:35.101645Z"
        },
        "trusted": true,
        "id": "4_uHQYOogAES"
      },
      "execution_count": null,
      "outputs": []
    },
    {
      "cell_type": "code",
      "source": [
        "# perform pca transformation which holds 95% of variance of v_features\n",
        "merged_train_df = PCA_transform(merged_train_df, v_features, 'PCA_V',20)\n",
        "merged_test_df = PCA_transform(merged_test_df, v_features, 'PCA_V',20)"
      ],
      "metadata": {
        "execution": {
          "iopub.status.busy": "2022-11-21T06:40:35.103927Z",
          "iopub.execute_input": "2022-11-21T06:40:35.104340Z",
          "iopub.status.idle": "2022-11-21T06:40:51.870045Z",
          "shell.execute_reply.started": "2022-11-21T06:40:35.104283Z",
          "shell.execute_reply": "2022-11-21T06:40:51.868953Z"
        },
        "trusted": true,
        "id": "vl4iOGNngAES"
      },
      "execution_count": null,
      "outputs": []
    },
    {
      "cell_type": "code",
      "source": [
        "# create list to store M1-M9 variable names\n",
        "M_cols = [\"M\"+str(i) for i in np.arange(1, 10, 1)]"
      ],
      "metadata": {
        "execution": {
          "iopub.status.busy": "2022-11-21T06:40:51.871836Z",
          "iopub.execute_input": "2022-11-21T06:40:51.872236Z",
          "iopub.status.idle": "2022-11-21T06:40:51.877549Z",
          "shell.execute_reply.started": "2022-11-21T06:40:51.872199Z",
          "shell.execute_reply": "2022-11-21T06:40:51.876551Z"
        },
        "trusted": true,
        "id": "ML-c5dEbgAES"
      },
      "execution_count": null,
      "outputs": []
    },
    {
      "cell_type": "code",
      "source": [
        "cat_cols1 = [card_cols,addr_cols,M_cols,id_cols]\n",
        "cat_cols2 = ['ProductCD','P_emaildomain','R_emaildomain','DeviceType','DeviceInfo']"
      ],
      "metadata": {
        "execution": {
          "iopub.status.busy": "2022-11-21T06:40:51.882244Z",
          "iopub.execute_input": "2022-11-21T06:40:51.882525Z",
          "iopub.status.idle": "2022-11-21T06:40:51.893038Z",
          "shell.execute_reply.started": "2022-11-21T06:40:51.882500Z",
          "shell.execute_reply": "2022-11-21T06:40:51.892032Z"
        },
        "trusted": true,
        "id": "udU9I9vfgAET"
      },
      "execution_count": null,
      "outputs": []
    },
    {
      "cell_type": "code",
      "source": [
        "# create a function to convert the categorical variable's categories into numbers\n",
        "def convert_cat_label1(df):\n",
        "    for i in range(len(cat_cols1)):\n",
        "        for col in cat_cols1[i]:\n",
        "            # avoid nan\n",
        "            if df[col].dtype=='object':\n",
        "                le = preprocessing.LabelEncoder()\n",
        "                le.fit(list(df[col].values) + list(df[col].values))\n",
        "                df[col] = le.transform(list(df[col].values))\n",
        "    return df"
      ],
      "metadata": {
        "execution": {
          "iopub.status.busy": "2022-11-21T06:40:51.894361Z",
          "iopub.execute_input": "2022-11-21T06:40:51.895188Z",
          "iopub.status.idle": "2022-11-21T06:40:51.904717Z",
          "shell.execute_reply.started": "2022-11-21T06:40:51.895153Z",
          "shell.execute_reply": "2022-11-21T06:40:51.903773Z"
        },
        "trusted": true,
        "id": "Y4QXKHtdgAET"
      },
      "execution_count": null,
      "outputs": []
    },
    {
      "cell_type": "code",
      "source": [
        "# create a function to convert the categorical variable's categories into numbers\n",
        "def convert_cat_label2(df):\n",
        "    for col in cat_cols2:\n",
        "        if col in df.columns:\n",
        "            le = preprocessing.LabelEncoder()\n",
        "            le.fit(list(df[col].values) + list(df[col].values))\n",
        "            df[col] = le.transform(list(df[col].values))\n",
        "    return df"
      ],
      "metadata": {
        "execution": {
          "iopub.status.busy": "2022-11-21T06:40:51.907351Z",
          "iopub.execute_input": "2022-11-21T06:40:51.908953Z",
          "iopub.status.idle": "2022-11-21T06:40:51.920816Z",
          "shell.execute_reply.started": "2022-11-21T06:40:51.908917Z",
          "shell.execute_reply": "2022-11-21T06:40:51.919910Z"
        },
        "trusted": true,
        "id": "2fhMRrQogAET"
      },
      "execution_count": null,
      "outputs": []
    },
    {
      "cell_type": "code",
      "source": [
        "# convert categorical variables's categories into numbers \n",
        "merged_train_df = convert_cat_label1(merged_train_df)\n",
        "merged_train_df = convert_cat_label2(merged_train_df)\n",
        "merged_test_df = convert_cat_label1(merged_test_df)\n",
        "merged_test_df = convert_cat_label2(merged_test_df)"
      ],
      "metadata": {
        "execution": {
          "iopub.status.busy": "2022-11-21T06:40:51.922325Z",
          "iopub.execute_input": "2022-11-21T06:40:51.922691Z",
          "iopub.status.idle": "2022-11-21T06:41:31.535465Z",
          "shell.execute_reply.started": "2022-11-21T06:40:51.922659Z",
          "shell.execute_reply": "2022-11-21T06:41:31.534395Z"
        },
        "trusted": true,
        "id": "ytk5pDHHgAET"
      },
      "execution_count": null,
      "outputs": []
    },
    {
      "cell_type": "code",
      "source": [
        "# assign indedepnt variables to X, and depdent variable isFraud to y\n",
        "\n",
        "X_train= merged_train_df.drop(['TransactionID','TransactionDT','isFraud'],axis=1)\n",
        "y_train=merged_train_df['isFraud']\n",
        "X_test=merged_test_df.drop(['TransactionID','TransactionDT'],axis=1)"
      ],
      "metadata": {
        "execution": {
          "iopub.status.busy": "2022-11-21T06:41:31.536849Z",
          "iopub.execute_input": "2022-11-21T06:41:31.537893Z",
          "iopub.status.idle": "2022-11-21T06:41:31.771783Z",
          "shell.execute_reply.started": "2022-11-21T06:41:31.537856Z",
          "shell.execute_reply": "2022-11-21T06:41:31.770645Z"
        },
        "trusted": true,
        "id": "Y2DWJDzKgAET"
      },
      "execution_count": null,
      "outputs": []
    },
    {
      "cell_type": "code",
      "source": [
        "from sklearn.impute import SimpleImputer\n",
        "\n",
        "df = pd.DataFrame(X_train)\n",
        "df.replace([np.inf, -np.inf], np.nan, inplace=True)\n",
        "X_train = df.to_numpy()\n",
        "imp_mean = SimpleImputer(missing_values=np.nan, strategy='mean')\n",
        "imp_mean.fit(X_train)\n",
        "X_train = imp_mean.transform(X_train)"
      ],
      "metadata": {
        "execution": {
          "iopub.status.busy": "2022-11-21T06:41:31.773211Z",
          "iopub.execute_input": "2022-11-21T06:41:31.774404Z",
          "iopub.status.idle": "2022-11-21T06:41:33.672804Z",
          "shell.execute_reply.started": "2022-11-21T06:41:31.774365Z",
          "shell.execute_reply": "2022-11-21T06:41:33.671674Z"
        },
        "trusted": true,
        "id": "Vb873ZZwgAET"
      },
      "execution_count": null,
      "outputs": []
    },
    {
      "cell_type": "code",
      "source": [
        "df = pd.DataFrame(merged_train_df)\n",
        "df.to_csv('preprocessed_train.csv')"
      ],
      "metadata": {
        "execution": {
          "iopub.status.busy": "2022-11-21T06:41:33.677770Z",
          "iopub.execute_input": "2022-11-21T06:41:33.680079Z",
          "iopub.status.idle": "2022-11-21T06:41:52.681232Z",
          "shell.execute_reply.started": "2022-11-21T06:41:33.680041Z",
          "shell.execute_reply": "2022-11-21T06:41:52.679747Z"
        },
        "trusted": true,
        "id": "c_INFW19gAET"
      },
      "execution_count": null,
      "outputs": []
    },
    {
      "cell_type": "markdown",
      "source": [
        "# Prediction Model"
      ],
      "metadata": {
        "id": "n5utMwEygAEU"
      }
    },
    {
      "cell_type": "markdown",
      "source": [
        "## XGBoost with Hyper-parameter Tuning"
      ],
      "metadata": {
        "id": "S1gijW55gAEU"
      }
    },
    {
      "cell_type": "markdown",
      "source": [
        "### GridsearchCV code "
      ],
      "metadata": {
        "id": "_6K-u3HRgAEU"
      }
    },
    {
      "cell_type": "code",
      "source": [
        "class XGBGridSearch:\n",
        "    \"\"\"\n",
        "    Source:\n",
        "    https://www.kaggle.com/xhlulu/ieee-fraud-efficient-grid-search-with-xgboost\n",
        "    \"\"\"\n",
        "    def __init__(self, param_grid, cv=3, verbose=0, shuffle=False, random_state=2019):\n",
        "        self.param_grid = param_grid\n",
        "        self.cv = cv\n",
        "        self.random_state = random_state\n",
        "        self.verbose = verbose\n",
        "        self.shuffle = shuffle\n",
        "        self.average_scores = []\n",
        "        self.scores = []\n",
        "        \n",
        "    def fit(self, X, y):\n",
        "        self._expand_params()\n",
        "        self._split_data(X, y)\n",
        "            \n",
        "        for params in tqdm(self.param_list, disable=not self.verbose):\n",
        "            avg_score, score = self._run_cv(X, y, params)\n",
        "            self.average_scores.append(avg_score)\n",
        "            self.scores.append(score)\n",
        "        \n",
        "        self._compute_best()\n",
        "    \n",
        "    def _run_cv(self, X, y, params):\n",
        "        \"\"\"\n",
        "        Perform KFold CV on a single set of parameters\n",
        "        \"\"\"\n",
        "        scores = []\n",
        "        \n",
        "        for train_idx, val_idx in self.splits:\n",
        "            clf = xgb.XGBClassifier(**params)\n",
        "            X_train, X_val = X.iloc[train_idx, :], X.iloc[val_idx, :]\n",
        "            y_train, y_val = y.iloc[train_idx], y.iloc[val_idx]\n",
        "            \n",
        "            clf.fit(X_train, y_train)\n",
        "            \n",
        "            y_val_pred = clf.predict_proba(X_val)[:, 1]\n",
        "            \n",
        "            score = roc_auc_score(y_val, y_val_pred)\n",
        "            scores.append(score)\n",
        "            \n",
        "            gc.collect()\n",
        "            \n",
        "        avg_score = sum(scores)/len(scores) \n",
        "        return avg_score,scores\n",
        "        \n",
        "    def _split_data(self, X, y):\n",
        "        kf = KFold(n_splits=self.cv,shuffle=self.shuffle,)\n",
        "        self.splits = list(kf.split(X, y))\n",
        "        \n",
        "    def _compute_best(self):\n",
        "        \"\"\"\n",
        "        Compute best params and its corresponding score\n",
        "        \"\"\"\n",
        "        idx_best = np.argmax(self.average_scores)\n",
        "        self.best_score_ = self.average_scores[idx_best]\n",
        "        self.best_params_ = self.param_list[idx_best]\n",
        "\n",
        "    def _expand_params(self):\n",
        "        \"\"\"\n",
        "        This method expands a dictionary of lists into\n",
        "        a list of dictionaries (each dictionary is a single\n",
        "        valid params that can be input to XGBoost)\n",
        "        \"\"\"\n",
        "        keys, values = zip(*self.param_grid.items())\n",
        "        self.param_list = [dict(zip(keys, v)) \n",
        "            for v in itertools.product(*values)\n",
        "        ]"
      ],
      "metadata": {
        "execution": {
          "iopub.status.busy": "2022-11-21T06:41:52.683067Z",
          "iopub.execute_input": "2022-11-21T06:41:52.683433Z",
          "iopub.status.idle": "2022-11-21T06:41:52.698270Z",
          "shell.execute_reply.started": "2022-11-21T06:41:52.683398Z",
          "shell.execute_reply": "2022-11-21T06:41:52.697564Z"
        },
        "trusted": true,
        "id": "BKw9ojokgAEU"
      },
      "execution_count": null,
      "outputs": []
    },
    {
      "cell_type": "code",
      "source": [
        "import os\n",
        "import gc\n",
        "import itertools\n",
        "\n",
        "import numpy as np\n",
        "import pandas as pd\n",
        "from sklearn import preprocessing\n",
        "import xgboost as xgb\n",
        "from sklearn.model_selection import GridSearchCV\n",
        "from sklearn.model_selection import KFold\n",
        "from sklearn.metrics import roc_auc_score\n",
        "from pprint import pprint\n",
        "from tqdm import tqdm"
      ],
      "metadata": {
        "execution": {
          "iopub.status.busy": "2022-11-21T06:41:52.699810Z",
          "iopub.execute_input": "2022-11-21T06:41:52.700630Z",
          "iopub.status.idle": "2022-11-21T06:41:52.710675Z",
          "shell.execute_reply.started": "2022-11-21T06:41:52.700429Z",
          "shell.execute_reply": "2022-11-21T06:41:52.709936Z"
        },
        "trusted": true,
        "id": "glNWJ0SEgAEU"
      },
      "execution_count": null,
      "outputs": []
    },
    {
      "cell_type": "code",
      "source": [
        "X_train = pd.DataFrame(X_train)"
      ],
      "metadata": {
        "execution": {
          "iopub.status.busy": "2022-11-21T07:04:52.242953Z",
          "iopub.execute_input": "2022-11-21T07:04:52.243369Z",
          "iopub.status.idle": "2022-11-21T07:04:52.249470Z",
          "shell.execute_reply.started": "2022-11-21T07:04:52.243335Z",
          "shell.execute_reply": "2022-11-21T07:04:52.248290Z"
        },
        "trusted": true,
        "id": "oIFM1vdUgAEV"
      },
      "execution_count": null,
      "outputs": []
    },
    {
      "cell_type": "code",
      "source": [
        "param_grid = {\n",
        "    'n_estimators': [500],\n",
        "    'missing': [-999],\n",
        "    'random_state': [2019],\n",
        "    'n_jobs': [1],\n",
        "    'tree_method': ['gpu_hist'],\n",
        "    'max_depth': [9],\n",
        "    'learning_rate': [0.048, 0.05],\n",
        "    'subsample': [0.85, 0.9],\n",
        "    'colsample_bytree': [0.85, 0.9],\n",
        "    'reg_alpha': [0, 0.1],\n",
        "    'reg_lambda': [1, 0.9]\n",
        "}\n",
        "\n",
        "grid = XGBGridSearch(param_grid, cv=4, verbose=1)\n",
        "grid.fit(X_train, y_train)\n",
        "\n",
        "print(\"Best Score:\", grid.best_score_)\n",
        "print(\"Best Params:\", grid.best_params_)"
      ],
      "metadata": {
        "execution": {
          "iopub.status.busy": "2022-11-21T07:04:54.909498Z",
          "iopub.execute_input": "2022-11-21T07:04:54.910331Z",
          "iopub.status.idle": "2022-11-21T07:05:15.725048Z",
          "shell.execute_reply.started": "2022-11-21T07:04:54.910293Z",
          "shell.execute_reply": "2022-11-21T07:05:15.723527Z"
        },
        "trusted": true,
        "id": "2rOgYd4JgAEV"
      },
      "execution_count": null,
      "outputs": []
    },
    {
      "cell_type": "code",
      "source": [
        "clf = xgb.XGBClassifier(**grid.best_params_)\n",
        "clf.fit(X_train, y_train)\n",
        "\n",
        "sample_submission = pd.read_csv('../input/sample-submissions/sample_submission.csv')\n",
        "sample_submission['isFraud'] = clf.predict(X_test)\n",
        "sample_submission.to_csv('simple_xgboost.csv')"
      ],
      "metadata": {
        "execution": {
          "iopub.status.busy": "2022-11-21T06:41:52.770991Z",
          "iopub.status.idle": "2022-11-21T06:41:52.771482Z",
          "shell.execute_reply.started": "2022-11-21T06:41:52.771231Z",
          "shell.execute_reply": "2022-11-21T06:41:52.771255Z"
        },
        "trusted": true,
        "id": "0_ViA91KgAEV"
      },
      "execution_count": null,
      "outputs": []
    },
    {
      "cell_type": "markdown",
      "source": [
        "## XGboost without Hyper-parameter tuning"
      ],
      "metadata": {
        "id": "1KqlSg-ogAEV"
      }
    },
    {
      "cell_type": "code",
      "source": [
        "# use xgboost to classify whether each transaction is fraud or not\n",
        "import xgboost as xgb\n",
        "clf = xgb.XGBClassifier( n_estimators=500,\n",
        "    max_depth=7,\n",
        "    learning_rate=0.05,\n",
        "    subsample=0.9,\n",
        "    colsample_bytree=0.9,\n",
        "    random_state=101)"
      ],
      "metadata": {
        "execution": {
          "iopub.status.busy": "2022-11-21T06:41:52.773231Z",
          "iopub.status.idle": "2022-11-21T06:41:52.773742Z",
          "shell.execute_reply.started": "2022-11-21T06:41:52.773466Z",
          "shell.execute_reply": "2022-11-21T06:41:52.773489Z"
        },
        "trusted": true,
        "id": "fvvscX3TgAEV"
      },
      "execution_count": null,
      "outputs": []
    },
    {
      "cell_type": "code",
      "source": [
        "# fit the model with x label and y label and predict X_test\n",
        "clf.fit(X_train,y_train)\n",
        "y_preds = clf.predict(X_test)"
      ],
      "metadata": {
        "execution": {
          "iopub.status.busy": "2022-11-21T06:41:52.775379Z",
          "iopub.status.idle": "2022-11-21T06:41:52.775882Z",
          "shell.execute_reply.started": "2022-11-21T06:41:52.775635Z",
          "shell.execute_reply": "2022-11-21T06:41:52.775658Z"
        },
        "trusted": true,
        "id": "AO-ymczpgAEW"
      },
      "execution_count": null,
      "outputs": []
    },
    {
      "cell_type": "code",
      "source": [
        "# merge prediction results with test transactions\n",
        "sample_submission = pd.read_csv(\"../input/sample-submissions/sample_submission.csv\")\n",
        "sample_submission['isFraud']=y_preds\n",
        "sample_submission.head(10)\n",
        "sample_submission.to_csv('Final_submission_new.csv', index=False)\n",
        "sample_submission.head(10)"
      ],
      "metadata": {
        "execution": {
          "iopub.status.busy": "2022-11-21T06:41:52.777604Z",
          "iopub.status.idle": "2022-11-21T06:41:52.778091Z",
          "shell.execute_reply.started": "2022-11-21T06:41:52.777841Z",
          "shell.execute_reply": "2022-11-21T06:41:52.777863Z"
        },
        "trusted": true,
        "id": "gUY_nWtFgAEW"
      },
      "execution_count": null,
      "outputs": []
    },
    {
      "cell_type": "markdown",
      "source": [
        "### Imputing mean at NULL,NAN or Infinity type cell "
      ],
      "metadata": {
        "id": "DXaFF49FgAEX"
      }
    },
    {
      "cell_type": "code",
      "source": [
        "from sklearn.impute import SimpleImputer\n",
        "\n",
        "df = pd.DataFrame(X_train)\n",
        "df.replace([np.inf, -np.inf], np.nan, inplace=True)\n",
        "X_train = df.to_numpy()"
      ],
      "metadata": {
        "execution": {
          "iopub.status.busy": "2022-11-21T07:08:02.110248Z",
          "iopub.execute_input": "2022-11-21T07:08:02.110681Z",
          "iopub.status.idle": "2022-11-21T07:08:02.242341Z",
          "shell.execute_reply.started": "2022-11-21T07:08:02.110647Z",
          "shell.execute_reply": "2022-11-21T07:08:02.241338Z"
        },
        "trusted": true,
        "id": "mWiUfgq_gAEX"
      },
      "execution_count": null,
      "outputs": []
    },
    {
      "cell_type": "code",
      "source": [
        "from sklearn.impute import SimpleImputer\n",
        "\n",
        "df = pd.DataFrame(X_test)\n",
        "df.replace([np.inf, -np.inf], np.nan, inplace=True)\n",
        "X_test = df.to_numpy()"
      ],
      "metadata": {
        "execution": {
          "iopub.status.busy": "2022-11-21T07:08:04.999543Z",
          "iopub.execute_input": "2022-11-21T07:08:05.000347Z",
          "iopub.status.idle": "2022-11-21T07:08:05.056089Z",
          "shell.execute_reply.started": "2022-11-21T07:08:05.000307Z",
          "shell.execute_reply": "2022-11-21T07:08:05.055041Z"
        },
        "trusted": true,
        "id": "hbH1B4svgAEX"
      },
      "execution_count": null,
      "outputs": []
    },
    {
      "cell_type": "code",
      "source": [
        "imp_mean = SimpleImputer(missing_values=np.nan, strategy='mean')\n",
        "imp_mean.fit(X_test)\n",
        "X_test = imp_mean.transform(X_test)"
      ],
      "metadata": {
        "execution": {
          "iopub.status.busy": "2022-11-21T07:08:08.464969Z",
          "iopub.execute_input": "2022-11-21T07:08:08.465360Z",
          "iopub.status.idle": "2022-11-21T07:08:08.699550Z",
          "shell.execute_reply.started": "2022-11-21T07:08:08.465329Z",
          "shell.execute_reply": "2022-11-21T07:08:08.698576Z"
        },
        "trusted": true,
        "id": "JxOabrhMgAEX"
      },
      "execution_count": null,
      "outputs": []
    },
    {
      "cell_type": "code",
      "source": [
        "imp_mean = SimpleImputer(missing_values=np.nan, strategy='mean')\n",
        "imp_mean.fit(X_train)\n",
        "X_train = imp_mean.transform(X_train)\n",
        "#print(data)"
      ],
      "metadata": {
        "execution": {
          "iopub.status.busy": "2022-11-21T07:08:12.086182Z",
          "iopub.execute_input": "2022-11-21T07:08:12.086557Z",
          "iopub.status.idle": "2022-11-21T07:08:12.802914Z",
          "shell.execute_reply.started": "2022-11-21T07:08:12.086525Z",
          "shell.execute_reply": "2022-11-21T07:08:12.801848Z"
        },
        "trusted": true,
        "id": "aYk_lh9ZgAEX"
      },
      "execution_count": null,
      "outputs": []
    },
    {
      "cell_type": "markdown",
      "source": [
        "## Random Forest"
      ],
      "metadata": {
        "id": "1CQVBvlWgAEX"
      }
    },
    {
      "cell_type": "code",
      "source": [
        "from sklearn.ensemble import RandomForestClassifier\n",
        "clf = RandomForestClassifier(n_estimators=100, max_depth=6, n_jobs=1, verbose=2)\n",
        "\n",
        "\n",
        "clf.fit(X_train, y_train)\n",
        "\n",
        "\n",
        " \n",
        "y_preds = clf.predict(X_test)"
      ],
      "metadata": {
        "execution": {
          "iopub.status.busy": "2022-11-21T06:52:14.950798Z",
          "iopub.execute_input": "2022-11-21T06:52:14.951172Z",
          "iopub.status.idle": "2022-11-21T06:52:22.177713Z",
          "shell.execute_reply.started": "2022-11-21T06:52:14.951138Z",
          "shell.execute_reply": "2022-11-21T06:52:22.176662Z"
        },
        "trusted": true,
        "id": "C_x7pPKkgAEX"
      },
      "execution_count": null,
      "outputs": []
    },
    {
      "cell_type": "code",
      "source": [
        "# merge prediction results with test transactions\n",
        "sample_submission = pd.read_csv(\"../input/sample-submissions/sample_submission.csv\")\n",
        "sample_submission['isFraud']=y_preds\n",
        "sample_submission.head(10)\n",
        "sample_submission.to_csv('Random_forest.csv', index=False)\n",
        "sample_submission.head(10)"
      ],
      "metadata": {
        "execution": {
          "iopub.status.busy": "2022-11-21T06:54:08.859264Z",
          "iopub.execute_input": "2022-11-21T06:54:08.860490Z",
          "iopub.status.idle": "2022-11-21T06:54:09.030505Z",
          "shell.execute_reply.started": "2022-11-21T06:54:08.860445Z",
          "shell.execute_reply": "2022-11-21T06:54:09.029393Z"
        },
        "trusted": true,
        "id": "e1OBfPuGgAEY"
      },
      "execution_count": null,
      "outputs": []
    },
    {
      "cell_type": "code",
      "source": [
        "\"\"\"# accuracy on y_test \n",
        "auc = roc_auc_score(y_test, y_preds)\n",
        "print('AUC: %.3f' % auc)\"\"\""
      ],
      "metadata": {
        "execution": {
          "iopub.status.busy": "2022-11-21T06:57:07.753569Z",
          "iopub.execute_input": "2022-11-21T06:57:07.754340Z",
          "iopub.status.idle": "2022-11-21T06:57:07.760647Z",
          "shell.execute_reply.started": "2022-11-21T06:57:07.754301Z",
          "shell.execute_reply": "2022-11-21T06:57:07.759631Z"
        },
        "trusted": true,
        "id": "26Zkl-HAgAEY"
      },
      "execution_count": null,
      "outputs": []
    },
    {
      "cell_type": "markdown",
      "source": [
        "## Naive Bayes"
      ],
      "metadata": {
        "id": "pijuxr1JgAEY"
      }
    },
    {
      "cell_type": "code",
      "source": [
        "from sklearn.naive_bayes import GaussianNB\n",
        "nb = GaussianNB(priors=[0.5,0.5]) \n",
        "nb.fit(X_train, y_train)\n",
        "nb_test_proba = nb.predict(X_test)\n"
      ],
      "metadata": {
        "execution": {
          "iopub.status.busy": "2022-11-21T06:57:51.355231Z",
          "iopub.execute_input": "2022-11-21T06:57:51.355624Z",
          "iopub.status.idle": "2022-11-21T06:57:52.368696Z",
          "shell.execute_reply.started": "2022-11-21T06:57:51.355570Z",
          "shell.execute_reply": "2022-11-21T06:57:52.367600Z"
        },
        "trusted": true,
        "id": "FkjGn8fugAEY"
      },
      "execution_count": null,
      "outputs": []
    },
    {
      "cell_type": "code",
      "source": [
        "# merge prediction results with test transactions\n",
        "sample_submission = pd.read_csv(\"../input/sample-submissions/sample_submission.csv\")\n",
        "sample_submission['isFraud']=nb_test_proba \n",
        "sample_submission.head(10)\n",
        "sample_submission.to_csv('Naive_Bayes.csv', index=False)\n",
        "sample_submission.head(10)"
      ],
      "metadata": {
        "execution": {
          "iopub.status.busy": "2022-11-21T06:57:55.905282Z",
          "iopub.execute_input": "2022-11-21T06:57:55.905676Z",
          "iopub.status.idle": "2022-11-21T06:57:56.056879Z",
          "shell.execute_reply.started": "2022-11-21T06:57:55.905642Z",
          "shell.execute_reply": "2022-11-21T06:57:56.055848Z"
        },
        "trusted": true,
        "id": "d9COCWHygAEY"
      },
      "execution_count": null,
      "outputs": []
    },
    {
      "cell_type": "markdown",
      "source": [
        "## Logistic Regression"
      ],
      "metadata": {
        "id": "8ZFZOty0gAEY"
      }
    },
    {
      "cell_type": "code",
      "source": [
        "from sklearn.linear_model import LogisticRegression\n",
        "lr = LogisticRegression(n_jobs = -1, class_weight = 'balanced', random_state = 3) \n",
        "lr.fit(X_train, y_train)\n",
        "\n",
        "lr_test_proba = lr.predict(X_test)"
      ],
      "metadata": {
        "execution": {
          "iopub.status.busy": "2022-11-21T07:08:19.742742Z",
          "iopub.execute_input": "2022-11-21T07:08:19.743124Z",
          "iopub.status.idle": "2022-11-21T07:10:36.427814Z",
          "shell.execute_reply.started": "2022-11-21T07:08:19.743092Z",
          "shell.execute_reply": "2022-11-21T07:10:36.425708Z"
        },
        "trusted": true,
        "id": "Mkg1FYAegAEY"
      },
      "execution_count": null,
      "outputs": []
    },
    {
      "cell_type": "code",
      "source": [
        "# merge prediction results with test transactions\n",
        "sample_submission = pd.read_csv(\"../input/sample-submissions/sample_submission.csv\")\n",
        "sample_submission['isFraud']=lr_test_proba \n",
        "sample_submission.head(10)\n",
        "sample_submission.to_csv('Logistic_Regression.csv', index=False)\n",
        "sample_submission.head(10)"
      ],
      "metadata": {
        "execution": {
          "iopub.status.busy": "2022-11-21T07:11:27.477813Z",
          "iopub.execute_input": "2022-11-21T07:11:27.478222Z",
          "iopub.status.idle": "2022-11-21T07:11:27.639768Z",
          "shell.execute_reply.started": "2022-11-21T07:11:27.478190Z",
          "shell.execute_reply": "2022-11-21T07:11:27.638862Z"
        },
        "trusted": true,
        "id": "xo6scWyJgAEZ"
      },
      "execution_count": null,
      "outputs": []
    },
    {
      "cell_type": "markdown",
      "source": [
        "## Decision Tree"
      ],
      "metadata": {
        "id": "Q-YMzqQrgAEZ"
      }
    },
    {
      "cell_type": "code",
      "source": [
        "from sklearn.tree import DecisionTreeClassifier\n",
        "dt =  DecisionTreeClassifier(random_state=3, class_weight='balanced')\n",
        "dt.fit(X_train, y_train)\n",
        "DecisionTreeClassifier(class_weight='balanced', random_state=3)\n",
        "dt_test_proba = dt.predict(X_test)"
      ],
      "metadata": {
        "execution": {
          "iopub.status.busy": "2022-11-21T07:13:08.247707Z",
          "iopub.execute_input": "2022-11-21T07:13:08.248085Z",
          "iopub.status.idle": "2022-11-21T07:13:39.322706Z",
          "shell.execute_reply.started": "2022-11-21T07:13:08.248054Z",
          "shell.execute_reply": "2022-11-21T07:13:39.321651Z"
        },
        "trusted": true,
        "id": "vbtjqQBAgAEZ"
      },
      "execution_count": null,
      "outputs": []
    },
    {
      "cell_type": "code",
      "source": [
        "# merge prediction results with test transactions\n",
        "sample_submission = pd.read_csv(\"../input/sample-submissions/sample_submission.csv\")\n",
        "sample_submission['isFraud']=lr_test_proba \n",
        "sample_submission.head(10)\n",
        "sample_submission.to_csv('Decision_Tree.csv', index=False)\n",
        "sample_submission.head(10)"
      ],
      "metadata": {
        "execution": {
          "iopub.status.busy": "2022-11-21T07:13:49.973713Z",
          "iopub.execute_input": "2022-11-21T07:13:49.974081Z",
          "iopub.status.idle": "2022-11-21T07:13:50.131554Z",
          "shell.execute_reply.started": "2022-11-21T07:13:49.974049Z",
          "shell.execute_reply": "2022-11-21T07:13:50.130629Z"
        },
        "trusted": true,
        "id": "MeE3N2JSgAEZ"
      },
      "execution_count": null,
      "outputs": []
    },
    {
      "cell_type": "code",
      "source": [],
      "metadata": {
        "execution": {
          "iopub.status.busy": "2022-11-21T07:15:33.962751Z",
          "iopub.execute_input": "2022-11-21T07:15:33.963397Z"
        },
        "trusted": true,
        "id": "9HJgfUxFgAEZ"
      },
      "execution_count": null,
      "outputs": []
    },
    {
      "cell_type": "code",
      "source": [],
      "metadata": {
        "execution": {
          "iopub.status.busy": "2022-11-21T06:41:52.820742Z",
          "iopub.status.idle": "2022-11-21T06:41:52.821460Z",
          "shell.execute_reply.started": "2022-11-21T06:41:52.821207Z",
          "shell.execute_reply": "2022-11-21T06:41:52.821230Z"
        },
        "trusted": true,
        "id": "N28Pe7s7gAEZ"
      },
      "execution_count": null,
      "outputs": []
    },
    {
      "cell_type": "code",
      "source": [],
      "metadata": {
        "execution": {
          "iopub.status.busy": "2022-11-21T06:41:52.822800Z",
          "iopub.status.idle": "2022-11-21T06:41:52.823520Z",
          "shell.execute_reply.started": "2022-11-21T06:41:52.823265Z",
          "shell.execute_reply": "2022-11-21T06:41:52.823288Z"
        },
        "trusted": true,
        "id": "-DjE3m0egAEZ"
      },
      "execution_count": null,
      "outputs": []
    }
  ]
}