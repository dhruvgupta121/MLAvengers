{
  "cells": [
    {
      "cell_type": "code",
      "execution_count": null,
      "id": "e827fd05",
      "metadata": {
        "_cell_guid": "b1076dfc-b9ad-4769-8c92-a6c4dae69d19",
        "_uuid": "8f2839f25d086af736a60e9eeb907d3b93b6e0e5",
        "execution": {
          "iopub.execute_input": "2022-11-20T08:50:58.352581Z",
          "iopub.status.busy": "2022-11-20T08:50:58.352125Z",
          "iopub.status.idle": "2022-11-20T08:50:58.378327Z",
          "shell.execute_reply": "2022-11-20T08:50:58.377405Z"
        },
        "papermill": {
          "duration": 0.040413,
          "end_time": "2022-11-20T08:50:58.381203",
          "exception": false,
          "start_time": "2022-11-20T08:50:58.340790",
          "status": "completed"
        },
        "tags": [],
        "id": "e827fd05",
        "outputId": "68578517-ad29-452c-8b08-9d7b167468bb"
      },
      "outputs": [
        {
          "name": "stdout",
          "output_type": "stream",
          "text": [
            "/kaggle/input/its-fraud/train.csv\n",
            "/kaggle/input/its-fraud/test.csv\n",
            "/kaggle/input/its-fraud/mock_submission.csv\n",
            "/kaggle/input/sample-submissions/sample_submission.csv\n",
            "/kaggle/input/submission/sample_submission.csv\n"
          ]
        }
      ],
      "source": [
        "# This Python 3 environment comes with many helpful analytics libraries installed\n",
        "# It is defined by the kaggle/python Docker image: https://github.com/kaggle/docker-python\n",
        "# For example, here's several helpful packages to load\n",
        "\n",
        "import numpy as np # linear algebra\n",
        "import pandas as pd # data processing, CSV file I/O (e.g. pd.read_csv)\n",
        "\n",
        "# Input data files are available in the read-only \"../input/\" directory\n",
        "# For example, running this (by clicking run or pressing Shift+Enter) will list all files under the input directory\n",
        "\n",
        "import os\n",
        "for dirname, _, filenames in os.walk('/kaggle/input'):\n",
        "    for filename in filenames:\n",
        "        print(os.path.join(dirname, filename))\n",
        "\n",
        "# You can write up to 20GB to the current directory (/kaggle/working/) that gets preserved as output when you create a version using \"Save & Run All\" \n",
        "# You can also write temporary files to /kaggle/temp/, but they won't be saved outside of the current session"
      ]
    },
    {
      "cell_type": "code",
      "execution_count": null,
      "id": "446cc104",
      "metadata": {
        "execution": {
          "iopub.execute_input": "2022-11-20T08:50:58.401310Z",
          "iopub.status.busy": "2022-11-20T08:50:58.400566Z",
          "iopub.status.idle": "2022-11-20T08:50:59.867852Z",
          "shell.execute_reply": "2022-11-20T08:50:59.866936Z"
        },
        "papermill": {
          "duration": 1.479275,
          "end_time": "2022-11-20T08:50:59.870412",
          "exception": false,
          "start_time": "2022-11-20T08:50:58.391137",
          "status": "completed"
        },
        "tags": [],
        "id": "446cc104"
      },
      "outputs": [],
      "source": [
        "from sklearn import preprocessing\n",
        "from sklearn.decomposition import PCA\n",
        "from sklearn.preprocessing import minmax_scale\n",
        "from sklearn.model_selection import train_test_split\n",
        "from sklearn.metrics import roc_curve\n",
        "from sklearn.metrics import roc_auc_score\n",
        "from hyperopt import hp, tpe\n",
        "from hyperopt.fmin import fmin"
      ]
    },
    {
      "cell_type": "code",
      "execution_count": null,
      "id": "ebbb9a24",
      "metadata": {
        "execution": {
          "iopub.execute_input": "2022-11-20T08:50:59.890985Z",
          "iopub.status.busy": "2022-11-20T08:50:59.890115Z",
          "iopub.status.idle": "2022-11-20T08:50:59.902199Z",
          "shell.execute_reply": "2022-11-20T08:50:59.901365Z"
        },
        "papermill": {
          "duration": 0.025119,
          "end_time": "2022-11-20T08:50:59.904169",
          "exception": false,
          "start_time": "2022-11-20T08:50:59.879050",
          "status": "completed"
        },
        "tags": [],
        "id": "ebbb9a24"
      },
      "outputs": [],
      "source": [
        "def reduce_mem_usage(df, verbose=True):\n",
        "    numerics = ['int16', 'int32', 'int64', 'float16', 'float32', 'float64']\n",
        "    start_mem = df.memory_usage().sum() / 1024**2    \n",
        "    for col in df.columns:\n",
        "        col_type = df[col].dtypes\n",
        "        if col_type in numerics:\n",
        "            c_min = df[col].min()\n",
        "            c_max = df[col].max()\n",
        "            if str(col_type)[:3] == 'int':\n",
        "                if c_min > np.iinfo(np.int8).min and c_max < np.iinfo(np.int8).max:\n",
        "                    df[col] = df[col].astype(np.int8)\n",
        "                elif c_min > np.iinfo(np.int16).min and c_max < np.iinfo(np.int16).max:\n",
        "                    df[col] = df[col].astype(np.int16)\n",
        "                elif c_min > np.iinfo(np.int32).min and c_max < np.iinfo(np.int32).max:\n",
        "                    df[col] = df[col].astype(np.int32)\n",
        "                elif c_min > np.iinfo(np.int64).min and c_max < np.iinfo(np.int64).max:\n",
        "                    df[col] = df[col].astype(np.int64)  \n",
        "            else:\n",
        "                if c_min > np.finfo(np.float16).min and c_max < np.finfo(np.float16).max:\n",
        "                    df[col] = df[col].astype(np.float16)\n",
        "                elif c_min > np.finfo(np.float32).min and c_max < np.finfo(np.float32).max:\n",
        "                    df[col] = df[col].astype(np.float32)\n",
        "                else:\n",
        "                    df[col] = df[col].astype(np.float64)    \n",
        "    end_mem = df.memory_usage().sum() / 1024**2\n",
        "    if verbose: print('Mem. usage decreased to {:5.2f} Mb ({:.1f}% reduction)'.format(end_mem, 100 * (start_mem - end_mem) / start_mem))\n",
        "    return df"
      ]
    },
    {
      "cell_type": "code",
      "execution_count": null,
      "id": "667fef75",
      "metadata": {
        "execution": {
          "iopub.execute_input": "2022-11-20T08:50:59.922615Z",
          "iopub.status.busy": "2022-11-20T08:50:59.922345Z",
          "iopub.status.idle": "2022-11-20T08:52:52.454070Z",
          "shell.execute_reply": "2022-11-20T08:52:52.453076Z"
        },
        "papermill": {
          "duration": 112.552162,
          "end_time": "2022-11-20T08:52:52.465150",
          "exception": false,
          "start_time": "2022-11-20T08:50:59.912988",
          "status": "completed"
        },
        "tags": [],
        "id": "667fef75",
        "outputId": "aaf994c9-66e5-4f73-b6c9-57065f44824d"
      },
      "outputs": [
        {
          "name": "stdout",
          "output_type": "stream",
          "text": [
            "Mem. usage decreased to 484.48 Mb (67.0% reduction)\n"
          ]
        }
      ],
      "source": [
        "train_full = pd.read_csv(\"../input/its-fraud/train.csv\")\n",
        "\n",
        "test_full = pd.read_csv(\"../input/its-fraud/test.csv\")\n",
        "\n",
        "train_full = reduce_mem_usage(train_full)"
      ]
    },
    {
      "cell_type": "markdown",
      "id": "c590811c",
      "metadata": {
        "papermill": {
          "duration": 0.008536,
          "end_time": "2022-11-20T08:52:52.482527",
          "exception": false,
          "start_time": "2022-11-20T08:52:52.473991",
          "status": "completed"
        },
        "tags": [],
        "id": "c590811c"
      },
      "source": [
        "## Feature Selection\n",
        "\n",
        "In the baseline model, we learned that the information poor features such as TransactionDT was among the most important features. We will try Boruta, a method of eliminating these features by only capture the important, interesting features that have high degree of influence on the target variable."
      ]
    },
    {
      "cell_type": "code",
      "execution_count": null,
      "id": "7a4e106b",
      "metadata": {
        "execution": {
          "iopub.execute_input": "2022-11-20T08:52:52.501705Z",
          "iopub.status.busy": "2022-11-20T08:52:52.500867Z",
          "iopub.status.idle": "2022-11-20T08:52:52.514435Z",
          "shell.execute_reply": "2022-11-20T08:52:52.513595Z"
        },
        "papermill": {
          "duration": 0.025268,
          "end_time": "2022-11-20T08:52:52.516523",
          "exception": false,
          "start_time": "2022-11-20T08:52:52.491255",
          "status": "completed"
        },
        "tags": [],
        "id": "7a4e106b"
      },
      "outputs": [],
      "source": [
        "# log transformation on TransactionAMT variable \n",
        "train_full['TransactionAmt'] = np.log(train_full['TransactionAmt'])\n",
        "test_full['TransactionAmt'] = np.log(test_full['TransactionAmt'])"
      ]
    },
    {
      "cell_type": "code",
      "execution_count": null,
      "id": "3909f5ea",
      "metadata": {
        "execution": {
          "iopub.execute_input": "2022-11-20T08:52:52.536260Z",
          "iopub.status.busy": "2022-11-20T08:52:52.535439Z",
          "iopub.status.idle": "2022-11-20T08:52:52.543425Z",
          "shell.execute_reply": "2022-11-20T08:52:52.542552Z"
        },
        "papermill": {
          "duration": 0.02025,
          "end_time": "2022-11-20T08:52:52.545649",
          "exception": false,
          "start_time": "2022-11-20T08:52:52.525399",
          "status": "completed"
        },
        "tags": [],
        "id": "3909f5ea"
      },
      "outputs": [],
      "source": [
        "# create lists to store categorical variables\n",
        "v_features = [\"V\"+str(i) for i in np.arange(1, 340, 1)]\n",
        "C_cols = [\"C\"+str(i) for i in np.arange(1, 15, 1)]\n",
        "card_cols = [\"card\"+str(i) for i in np.arange(1, 7, 1)]\n",
        "D_cols = [\"D\"+str(i) for i in np.arange(1, 16, 1)]\n",
        "addr_cols = [\"addr\"+str(i) for i in np.arange(1, 3, 1)]\n",
        "id_cols = [\"id_\"+str(i) for i in np.arange(12, 39, 1)]"
      ]
    },
    {
      "cell_type": "code",
      "execution_count": null,
      "id": "af637789",
      "metadata": {
        "execution": {
          "iopub.execute_input": "2022-11-20T08:52:52.564203Z",
          "iopub.status.busy": "2022-11-20T08:52:52.563922Z",
          "iopub.status.idle": "2022-11-20T08:52:52.569610Z",
          "shell.execute_reply": "2022-11-20T08:52:52.568495Z"
        },
        "papermill": {
          "duration": 0.017756,
          "end_time": "2022-11-20T08:52:52.571991",
          "exception": false,
          "start_time": "2022-11-20T08:52:52.554235",
          "status": "completed"
        },
        "tags": [],
        "id": "af637789"
      },
      "outputs": [],
      "source": [
        "# create a function to perform pca transformation to reduce the number of variables\n",
        "def PCA_transform(df, cols,prefix, n_features):\n",
        "    pca = PCA(n_components = n_features, random_state=101)\n",
        "    pca_model = pca.fit_transform(df[cols])\n",
        "    pca_df = pd.DataFrame(pca_model)\n",
        "    df.drop(cols, axis=1, inplace=True)\n",
        "    pca_df.rename(columns=lambda x: str(prefix)+str(x), inplace=True)\n",
        "    df = pd.concat([df, pca_df], axis=1)\n",
        "    return df"
      ]
    },
    {
      "cell_type": "code",
      "execution_count": null,
      "id": "e8590f36",
      "metadata": {
        "execution": {
          "iopub.execute_input": "2022-11-20T08:52:52.590752Z",
          "iopub.status.busy": "2022-11-20T08:52:52.590491Z",
          "iopub.status.idle": "2022-11-20T08:52:52.596028Z",
          "shell.execute_reply": "2022-11-20T08:52:52.595184Z"
        },
        "papermill": {
          "duration": 0.017263,
          "end_time": "2022-11-20T08:52:52.597897",
          "exception": false,
          "start_time": "2022-11-20T08:52:52.580634",
          "status": "completed"
        },
        "tags": [],
        "id": "e8590f36"
      },
      "outputs": [],
      "source": [
        "# since pca does not accept NA values, we will fill na with -1 \n",
        "# before pca transformation the data need to be scaled from 0 to 1 \n",
        "def fill_na_features (df,features):\n",
        "    for col in features:\n",
        "        df[col] = df[col].fillna((df[col].min() - 1))\n",
        "        df[col] = (minmax_scale(df[col], feature_range=(0,1)))\n",
        "    return df"
      ]
    },
    {
      "cell_type": "code",
      "execution_count": null,
      "id": "03767f0e",
      "metadata": {
        "execution": {
          "iopub.execute_input": "2022-11-20T08:52:52.616262Z",
          "iopub.status.busy": "2022-11-20T08:52:52.615983Z",
          "iopub.status.idle": "2022-11-20T08:52:52.620275Z",
          "shell.execute_reply": "2022-11-20T08:52:52.619074Z"
        },
        "papermill": {
          "duration": 0.016016,
          "end_time": "2022-11-20T08:52:52.622512",
          "exception": false,
          "start_time": "2022-11-20T08:52:52.606496",
          "status": "completed"
        },
        "tags": [],
        "id": "03767f0e"
      },
      "outputs": [],
      "source": [
        "merged_train_df = train_full\n",
        "merged_test_df = test_full"
      ]
    },
    {
      "cell_type": "code",
      "execution_count": null,
      "id": "38f8bdb2",
      "metadata": {
        "execution": {
          "iopub.execute_input": "2022-11-20T08:52:52.640952Z",
          "iopub.status.busy": "2022-11-20T08:52:52.640700Z",
          "iopub.status.idle": "2022-11-20T08:53:05.771504Z",
          "shell.execute_reply": "2022-11-20T08:53:05.770277Z"
        },
        "papermill": {
          "duration": 13.143356,
          "end_time": "2022-11-20T08:53:05.774502",
          "exception": false,
          "start_time": "2022-11-20T08:52:52.631146",
          "status": "completed"
        },
        "tags": [],
        "id": "38f8bdb2"
      },
      "outputs": [],
      "source": [
        "merged_train_df = fill_na_features(merged_train_df,v_features)\n",
        "merged_test_df = fill_na_features(merged_test_df,v_features)"
      ]
    },
    {
      "cell_type": "code",
      "execution_count": null,
      "id": "af176f4b",
      "metadata": {
        "execution": {
          "iopub.execute_input": "2022-11-20T08:53:05.797383Z",
          "iopub.status.busy": "2022-11-20T08:53:05.795671Z",
          "iopub.status.idle": "2022-11-20T08:53:23.750141Z",
          "shell.execute_reply": "2022-11-20T08:53:23.748886Z"
        },
        "papermill": {
          "duration": 17.967793,
          "end_time": "2022-11-20T08:53:23.753110",
          "exception": false,
          "start_time": "2022-11-20T08:53:05.785317",
          "status": "completed"
        },
        "tags": [],
        "id": "af176f4b"
      },
      "outputs": [],
      "source": [
        "# perform pca transformation which holds 95% of variance of v_features\n",
        "merged_train_df = PCA_transform(merged_train_df, v_features, 'PCA_V',20)\n",
        "merged_test_df = PCA_transform(merged_test_df, v_features, 'PCA_V',20)"
      ]
    },
    {
      "cell_type": "code",
      "execution_count": null,
      "id": "77a42fee",
      "metadata": {
        "execution": {
          "iopub.execute_input": "2022-11-20T08:53:23.773278Z",
          "iopub.status.busy": "2022-11-20T08:53:23.772364Z",
          "iopub.status.idle": "2022-11-20T08:53:23.777311Z",
          "shell.execute_reply": "2022-11-20T08:53:23.776254Z"
        },
        "papermill": {
          "duration": 0.017423,
          "end_time": "2022-11-20T08:53:23.779650",
          "exception": false,
          "start_time": "2022-11-20T08:53:23.762227",
          "status": "completed"
        },
        "tags": [],
        "id": "77a42fee"
      },
      "outputs": [],
      "source": [
        "# create list to store M1-M9 variable names\n",
        "M_cols = [\"M\"+str(i) for i in np.arange(1, 10, 1)]"
      ]
    },
    {
      "cell_type": "code",
      "execution_count": null,
      "id": "e95ff2bd",
      "metadata": {
        "execution": {
          "iopub.execute_input": "2022-11-20T08:53:23.798861Z",
          "iopub.status.busy": "2022-11-20T08:53:23.798014Z",
          "iopub.status.idle": "2022-11-20T08:53:23.803072Z",
          "shell.execute_reply": "2022-11-20T08:53:23.802115Z"
        },
        "papermill": {
          "duration": 0.016661,
          "end_time": "2022-11-20T08:53:23.805222",
          "exception": false,
          "start_time": "2022-11-20T08:53:23.788561",
          "status": "completed"
        },
        "tags": [],
        "id": "e95ff2bd"
      },
      "outputs": [],
      "source": [
        "cat_cols1 = [card_cols,addr_cols,M_cols,id_cols]\n",
        "cat_cols2 = ['ProductCD','P_emaildomain','R_emaildomain','DeviceType','DeviceInfo']"
      ]
    },
    {
      "cell_type": "code",
      "execution_count": null,
      "id": "912b3c2b",
      "metadata": {
        "execution": {
          "iopub.execute_input": "2022-11-20T08:53:23.824377Z",
          "iopub.status.busy": "2022-11-20T08:53:23.823520Z",
          "iopub.status.idle": "2022-11-20T08:53:23.829863Z",
          "shell.execute_reply": "2022-11-20T08:53:23.828991Z"
        },
        "papermill": {
          "duration": 0.017933,
          "end_time": "2022-11-20T08:53:23.831824",
          "exception": false,
          "start_time": "2022-11-20T08:53:23.813891",
          "status": "completed"
        },
        "tags": [],
        "id": "912b3c2b"
      },
      "outputs": [],
      "source": [
        "# create a function to convert the categorical variable's categories into numbers\n",
        "def convert_cat_label1(df):\n",
        "    for i in range(len(cat_cols1)):\n",
        "        for col in cat_cols1[i]:\n",
        "            # avoid nan\n",
        "            if df[col].dtype=='object':\n",
        "                le = preprocessing.LabelEncoder()\n",
        "                le.fit(list(df[col].values) + list(df[col].values))\n",
        "                df[col] = le.transform(list(df[col].values))\n",
        "    return df"
      ]
    },
    {
      "cell_type": "code",
      "execution_count": null,
      "id": "089c406f",
      "metadata": {
        "execution": {
          "iopub.execute_input": "2022-11-20T08:53:23.850615Z",
          "iopub.status.busy": "2022-11-20T08:53:23.849851Z",
          "iopub.status.idle": "2022-11-20T08:53:23.855672Z",
          "shell.execute_reply": "2022-11-20T08:53:23.854878Z"
        },
        "papermill": {
          "duration": 0.017214,
          "end_time": "2022-11-20T08:53:23.857577",
          "exception": false,
          "start_time": "2022-11-20T08:53:23.840363",
          "status": "completed"
        },
        "tags": [],
        "id": "089c406f"
      },
      "outputs": [],
      "source": [
        "# create a function to convert the categorical variable's categories into numbers\n",
        "def convert_cat_label2(df):\n",
        "    for col in cat_cols2:\n",
        "        if col in df.columns:\n",
        "            le = preprocessing.LabelEncoder()\n",
        "            le.fit(list(df[col].values) + list(df[col].values))\n",
        "            df[col] = le.transform(list(df[col].values))\n",
        "    return df"
      ]
    },
    {
      "cell_type": "code",
      "execution_count": null,
      "id": "00e4f79b",
      "metadata": {
        "execution": {
          "iopub.execute_input": "2022-11-20T08:53:23.876288Z",
          "iopub.status.busy": "2022-11-20T08:53:23.875539Z",
          "iopub.status.idle": "2022-11-20T08:54:07.079610Z",
          "shell.execute_reply": "2022-11-20T08:54:07.078580Z"
        },
        "papermill": {
          "duration": 43.21576,
          "end_time": "2022-11-20T08:54:07.082072",
          "exception": false,
          "start_time": "2022-11-20T08:53:23.866312",
          "status": "completed"
        },
        "tags": [],
        "id": "00e4f79b"
      },
      "outputs": [],
      "source": [
        "# convert categorical variables's categories into numbers \n",
        "merged_train_df = convert_cat_label1(merged_train_df)\n",
        "merged_train_df = convert_cat_label2(merged_train_df)\n",
        "merged_test_df = convert_cat_label1(merged_test_df)\n",
        "merged_test_df = convert_cat_label2(merged_test_df)"
      ]
    },
    {
      "cell_type": "markdown",
      "id": "1f2ea87c",
      "metadata": {
        "papermill": {
          "duration": 0.008657,
          "end_time": "2022-11-20T08:54:07.099942",
          "exception": false,
          "start_time": "2022-11-20T08:54:07.091285",
          "status": "completed"
        },
        "tags": [],
        "id": "1f2ea87c"
      },
      "source": [
        "## Prediction Model"
      ]
    },
    {
      "cell_type": "code",
      "execution_count": null,
      "id": "54cf844d",
      "metadata": {
        "execution": {
          "iopub.execute_input": "2022-11-20T08:54:07.119539Z",
          "iopub.status.busy": "2022-11-20T08:54:07.118572Z",
          "iopub.status.idle": "2022-11-20T08:54:07.859367Z",
          "shell.execute_reply": "2022-11-20T08:54:07.858367Z"
        },
        "papermill": {
          "duration": 0.752893,
          "end_time": "2022-11-20T08:54:07.861799",
          "exception": false,
          "start_time": "2022-11-20T08:54:07.108906",
          "status": "completed"
        },
        "tags": [],
        "id": "54cf844d"
      },
      "outputs": [],
      "source": [
        "# assign indedepnt variables to X, and depdent variable isFraud to y\n",
        "X= merged_train_df.drop(['TransactionID','TransactionDT','isFraud'],axis=1)\n",
        "y=merged_train_df['isFraud']\n",
        "X_train, X_test, y_train, y_test = train_test_split(X, y, test_size=0.33, random_state=42)\n",
        "X_submission = merged_test_df.drop(['TransactionID','TransactionDT'],axis=1)\n"
      ]
    },
    {
      "cell_type": "markdown",
      "id": "871fecec",
      "metadata": {
        "papermill": {
          "duration": 0.010139,
          "end_time": "2022-11-20T08:54:15.849309",
          "exception": false,
          "start_time": "2022-11-20T08:54:15.839170",
          "status": "completed"
        },
        "tags": [],
        "id": "871fecec"
      },
      "source": [
        "## Naive Bayes"
      ]
    },
    {
      "cell_type": "code",
      "execution_count": null,
      "id": "db2dd326",
      "metadata": {
        "execution": {
          "iopub.execute_input": "2022-11-20T08:54:15.871370Z",
          "iopub.status.busy": "2022-11-20T08:54:15.870495Z",
          "iopub.status.idle": "2022-11-20T08:54:16.610313Z",
          "shell.execute_reply": "2022-11-20T08:54:16.608938Z"
        },
        "papermill": {
          "duration": 0.753585,
          "end_time": "2022-11-20T08:54:16.612918",
          "exception": false,
          "start_time": "2022-11-20T08:54:15.859333",
          "status": "completed"
        },
        "tags": [],
        "id": "db2dd326"
      },
      "outputs": [],
      "source": [
        "from sklearn.naive_bayes import GaussianNB\n",
        "nb = GaussianNB(priors=[0.5,0.5]) \n",
        "nb.fit(X_train, y_train)\n",
        "nb_test_proba = nb.predict_proba(X_test)[:,1]\n"
      ]
    },
    {
      "cell_type": "code",
      "execution_count": null,
      "id": "81730498",
      "metadata": {
        "execution": {
          "iopub.execute_input": "2022-11-20T08:54:16.635591Z",
          "iopub.status.busy": "2022-11-20T08:54:16.635005Z",
          "iopub.status.idle": "2022-11-20T08:54:16.959108Z",
          "shell.execute_reply": "2022-11-20T08:54:16.958205Z"
        },
        "papermill": {
          "duration": 0.337667,
          "end_time": "2022-11-20T08:54:16.961419",
          "exception": false,
          "start_time": "2022-11-20T08:54:16.623752",
          "status": "completed"
        },
        "tags": [],
        "id": "81730498",
        "outputId": "5973006d-8fff-43d6-a797-c0d267ea3ae2"
      },
      "outputs": [
        {
          "data": {
            "text/html": [
              "<div>\n",
              "<style scoped>\n",
              "    .dataframe tbody tr th:only-of-type {\n",
              "        vertical-align: middle;\n",
              "    }\n",
              "\n",
              "    .dataframe tbody tr th {\n",
              "        vertical-align: top;\n",
              "    }\n",
              "\n",
              "    .dataframe thead th {\n",
              "        text-align: right;\n",
              "    }\n",
              "</style>\n",
              "<table border=\"1\" class=\"dataframe\">\n",
              "  <thead>\n",
              "    <tr style=\"text-align: right;\">\n",
              "      <th></th>\n",
              "      <th>Id</th>\n",
              "      <th>isFraud</th>\n",
              "    </tr>\n",
              "  </thead>\n",
              "  <tbody>\n",
              "    <tr>\n",
              "      <th>0</th>\n",
              "      <td>0</td>\n",
              "      <td>1.415841e-16</td>\n",
              "    </tr>\n",
              "    <tr>\n",
              "      <th>1</th>\n",
              "      <td>1</td>\n",
              "      <td>1.829081e-09</td>\n",
              "    </tr>\n",
              "    <tr>\n",
              "      <th>2</th>\n",
              "      <td>2</td>\n",
              "      <td>1.000000e+00</td>\n",
              "    </tr>\n",
              "    <tr>\n",
              "      <th>3</th>\n",
              "      <td>3</td>\n",
              "      <td>5.117278e-17</td>\n",
              "    </tr>\n",
              "    <tr>\n",
              "      <th>4</th>\n",
              "      <td>4</td>\n",
              "      <td>1.865773e-07</td>\n",
              "    </tr>\n",
              "    <tr>\n",
              "      <th>5</th>\n",
              "      <td>5</td>\n",
              "      <td>1.083386e-18</td>\n",
              "    </tr>\n",
              "    <tr>\n",
              "      <th>6</th>\n",
              "      <td>6</td>\n",
              "      <td>2.238385e-13</td>\n",
              "    </tr>\n",
              "    <tr>\n",
              "      <th>7</th>\n",
              "      <td>7</td>\n",
              "      <td>4.939403e-01</td>\n",
              "    </tr>\n",
              "    <tr>\n",
              "      <th>8</th>\n",
              "      <td>8</td>\n",
              "      <td>2.255268e-07</td>\n",
              "    </tr>\n",
              "    <tr>\n",
              "      <th>9</th>\n",
              "      <td>9</td>\n",
              "      <td>9.999937e-01</td>\n",
              "    </tr>\n",
              "  </tbody>\n",
              "</table>\n",
              "</div>"
            ],
            "text/plain": [
              "   Id       isFraud\n",
              "0   0  1.415841e-16\n",
              "1   1  1.829081e-09\n",
              "2   2  1.000000e+00\n",
              "3   3  5.117278e-17\n",
              "4   4  1.865773e-07\n",
              "5   5  1.083386e-18\n",
              "6   6  2.238385e-13\n",
              "7   7  4.939403e-01\n",
              "8   8  2.255268e-07\n",
              "9   9  9.999937e-01"
            ]
          },
          "execution_count": 33,
          "metadata": {},
          "output_type": "execute_result"
        }
      ],
      "source": [
        "# merge prediction results with test transactions\n",
        "sample_submission = pd.read_csv(\"../input/submission/sample_submission.csv\")\n",
        "sample_submission['isFraud']=nb_test_proba \n",
        "sample_submission.head(10)\n",
        "sample_submission.to_csv('Naive_Bayes.csv', index=False)\n",
        "sample_submission.head(10)"
      ]
    },
    {
      "cell_type": "code",
      "execution_count": null,
      "id": "3ff70ddb",
      "metadata": {
        "execution": {
          "iopub.execute_input": "2022-11-20T08:54:16.983680Z",
          "iopub.status.busy": "2022-11-20T08:54:16.983361Z",
          "iopub.status.idle": "2022-11-20T08:54:17.024967Z",
          "shell.execute_reply": "2022-11-20T08:54:17.023701Z"
        },
        "papermill": {
          "duration": 0.055556,
          "end_time": "2022-11-20T08:54:17.027670",
          "exception": false,
          "start_time": "2022-11-20T08:54:16.972114",
          "status": "completed"
        },
        "tags": [],
        "id": "3ff70ddb",
        "outputId": "d7c58cef-fce6-43c4-b43e-2809bdcb9732"
      },
      "outputs": [
        {
          "name": "stdout",
          "output_type": "stream",
          "text": [
            "AUC: 0.710\n"
          ]
        }
      ],
      "source": [
        "# accuracy on y_test \n",
        "auc = roc_auc_score(y_test, nb_test_proba )\n",
        "print('AUC: %.3f' % auc)"
      ]
    },
    {
      "cell_type": "markdown",
      "id": "848cdeb7",
      "metadata": {
        "papermill": {
          "duration": 0.010165,
          "end_time": "2022-11-20T08:54:17.049059",
          "exception": false,
          "start_time": "2022-11-20T08:54:17.038894",
          "status": "completed"
        },
        "tags": [],
        "id": "848cdeb7"
      },
      "source": [
        "## Logistic Regression"
      ]
    },
    {
      "cell_type": "code",
      "execution_count": null,
      "id": "7d2573d8",
      "metadata": {
        "execution": {
          "iopub.execute_input": "2022-11-20T08:54:17.071327Z",
          "iopub.status.busy": "2022-11-20T08:54:17.071027Z",
          "iopub.status.idle": "2022-11-20T08:55:42.081944Z",
          "shell.execute_reply": "2022-11-20T08:55:42.079853Z"
        },
        "papermill": {
          "duration": 85.027454,
          "end_time": "2022-11-20T08:55:42.086921",
          "exception": false,
          "start_time": "2022-11-20T08:54:17.059467",
          "status": "completed"
        },
        "tags": [],
        "id": "7d2573d8"
      },
      "outputs": [],
      "source": [
        "from sklearn.linear_model import LogisticRegression\n",
        "lr = LogisticRegression(n_jobs = -1, class_weight = 'balanced', random_state = 3) \n",
        "lr.fit(X_train, y_train)\n",
        "\n",
        "lr_test_proba = lr.predict(X_test)[:,1]"
      ]
    },
    {
      "cell_type": "code",
      "execution_count": null,
      "id": "2355f216",
      "metadata": {
        "execution": {
          "iopub.execute_input": "2022-11-20T08:55:42.147627Z",
          "iopub.status.busy": "2022-11-20T08:55:42.146931Z",
          "iopub.status.idle": "2022-11-20T08:55:42.220616Z",
          "shell.execute_reply": "2022-11-20T08:55:42.219524Z"
        },
        "papermill": {
          "duration": 0.105376,
          "end_time": "2022-11-20T08:55:42.222739",
          "exception": false,
          "start_time": "2022-11-20T08:55:42.117363",
          "status": "completed"
        },
        "tags": [],
        "id": "2355f216",
        "outputId": "1ae23671-8a1e-479a-b410-d38838198dc9"
      },
      "outputs": [
        {
          "name": "stdout",
          "output_type": "stream",
          "text": [
            "AUC: 0.746\n"
          ]
        }
      ],
      "source": [
        "# accuracy on y_test \n",
        "auc = roc_auc_score(y_test, lr_test_proba )\n",
        "print('AUC: %.3f' % auc)"
      ]
    },
    {
      "cell_type": "code",
      "execution_count": null,
      "id": "cc6f2f17",
      "metadata": {
        "execution": {
          "iopub.execute_input": "2022-11-20T08:55:42.245703Z",
          "iopub.status.busy": "2022-11-20T08:55:42.244881Z",
          "iopub.status.idle": "2022-11-20T08:55:42.552316Z",
          "shell.execute_reply": "2022-11-20T08:55:42.551252Z"
        },
        "papermill": {
          "duration": 0.322202,
          "end_time": "2022-11-20T08:55:42.555383",
          "exception": false,
          "start_time": "2022-11-20T08:55:42.233181",
          "status": "completed"
        },
        "tags": [],
        "id": "cc6f2f17",
        "outputId": "8ff0b434-1120-46ef-b6f5-d94737cb5996"
      },
      "outputs": [
        {
          "data": {
            "text/html": [
              "<div>\n",
              "<style scoped>\n",
              "    .dataframe tbody tr th:only-of-type {\n",
              "        vertical-align: middle;\n",
              "    }\n",
              "\n",
              "    .dataframe tbody tr th {\n",
              "        vertical-align: top;\n",
              "    }\n",
              "\n",
              "    .dataframe thead th {\n",
              "        text-align: right;\n",
              "    }\n",
              "</style>\n",
              "<table border=\"1\" class=\"dataframe\">\n",
              "  <thead>\n",
              "    <tr style=\"text-align: right;\">\n",
              "      <th></th>\n",
              "      <th>Id</th>\n",
              "      <th>isFraud</th>\n",
              "    </tr>\n",
              "  </thead>\n",
              "  <tbody>\n",
              "    <tr>\n",
              "      <th>0</th>\n",
              "      <td>0</td>\n",
              "      <td>0.196235</td>\n",
              "    </tr>\n",
              "    <tr>\n",
              "      <th>1</th>\n",
              "      <td>1</td>\n",
              "      <td>0.520155</td>\n",
              "    </tr>\n",
              "    <tr>\n",
              "      <th>2</th>\n",
              "      <td>2</td>\n",
              "      <td>0.328302</td>\n",
              "    </tr>\n",
              "    <tr>\n",
              "      <th>3</th>\n",
              "      <td>3</td>\n",
              "      <td>0.199621</td>\n",
              "    </tr>\n",
              "    <tr>\n",
              "      <th>4</th>\n",
              "      <td>4</td>\n",
              "      <td>0.412012</td>\n",
              "    </tr>\n",
              "    <tr>\n",
              "      <th>5</th>\n",
              "      <td>5</td>\n",
              "      <td>0.271088</td>\n",
              "    </tr>\n",
              "    <tr>\n",
              "      <th>6</th>\n",
              "      <td>6</td>\n",
              "      <td>0.183502</td>\n",
              "    </tr>\n",
              "    <tr>\n",
              "      <th>7</th>\n",
              "      <td>7</td>\n",
              "      <td>0.597227</td>\n",
              "    </tr>\n",
              "    <tr>\n",
              "      <th>8</th>\n",
              "      <td>8</td>\n",
              "      <td>0.428828</td>\n",
              "    </tr>\n",
              "    <tr>\n",
              "      <th>9</th>\n",
              "      <td>9</td>\n",
              "      <td>0.015352</td>\n",
              "    </tr>\n",
              "  </tbody>\n",
              "</table>\n",
              "</div>"
            ],
            "text/plain": [
              "   Id   isFraud\n",
              "0   0  0.196235\n",
              "1   1  0.520155\n",
              "2   2  0.328302\n",
              "3   3  0.199621\n",
              "4   4  0.412012\n",
              "5   5  0.271088\n",
              "6   6  0.183502\n",
              "7   7  0.597227\n",
              "8   8  0.428828\n",
              "9   9  0.015352"
            ]
          },
          "execution_count": 37,
          "metadata": {},
          "output_type": "execute_result"
        }
      ],
      "source": [
        "# merge prediction results with test transactions\n",
        "sample_submission = pd.read_csv(\"../input/submission/sample_submission.csv\")\n",
        "sample_submission['isFraud']=lr_test_proba \n",
        "sample_submission.head(10)\n",
        "sample_submission.to_csv('Logistic_Regression.csv', index=False)\n",
        "sample_submission.head(10)"
      ]
    },
    {
      "cell_type": "markdown",
      "id": "00549b57",
      "metadata": {
        "papermill": {
          "duration": 0.010363,
          "end_time": "2022-11-20T08:55:42.576520",
          "exception": false,
          "start_time": "2022-11-20T08:55:42.566157",
          "status": "completed"
        },
        "tags": [],
        "id": "00549b57"
      },
      "source": [
        "## Decision Tree"
      ]
    },
    {
      "cell_type": "code",
      "execution_count": null,
      "id": "16f4afe6",
      "metadata": {
        "execution": {
          "iopub.execute_input": "2022-11-20T08:55:42.599160Z",
          "iopub.status.busy": "2022-11-20T08:55:42.598370Z",
          "iopub.status.idle": "2022-11-20T08:56:04.817843Z",
          "shell.execute_reply": "2022-11-20T08:56:04.816836Z"
        },
        "papermill": {
          "duration": 22.233578,
          "end_time": "2022-11-20T08:56:04.820573",
          "exception": false,
          "start_time": "2022-11-20T08:55:42.586995",
          "status": "completed"
        },
        "tags": [],
        "id": "16f4afe6"
      },
      "outputs": [],
      "source": [
        "from sklearn.tree import DecisionTreeClassifier\n",
        "dt =  DecisionTreeClassifier(random_state=3, class_weight='balanced')\n",
        "dt.fit(X_train, y_train)\n",
        "DecisionTreeClassifier(class_weight='balanced', random_state=3)\n",
        "dt_test_proba = dt.predict(X_test)[:,1]"
      ]
    },
    {
      "cell_type": "code",
      "execution_count": null,
      "id": "24f7eda2",
      "metadata": {
        "execution": {
          "iopub.execute_input": "2022-11-20T08:56:04.844784Z",
          "iopub.status.busy": "2022-11-20T08:56:04.844485Z",
          "iopub.status.idle": "2022-11-20T08:56:04.870073Z",
          "shell.execute_reply": "2022-11-20T08:56:04.868840Z"
        },
        "papermill": {
          "duration": 0.039659,
          "end_time": "2022-11-20T08:56:04.872154",
          "exception": false,
          "start_time": "2022-11-20T08:56:04.832495",
          "status": "completed"
        },
        "tags": [],
        "id": "24f7eda2",
        "outputId": "db4ec22d-746b-425d-ce4c-b1c56bbd4815"
      },
      "outputs": [
        {
          "name": "stdout",
          "output_type": "stream",
          "text": [
            "AUC: 0.743\n"
          ]
        }
      ],
      "source": [
        "# accuracy on y_test \n",
        "auc = roc_auc_score(y_test, dt_test_proba)\n",
        "print('AUC: %.3f' % auc)"
      ]
    },
    {
      "cell_type": "code",
      "execution_count": null,
      "id": "ebf8c78b",
      "metadata": {
        "execution": {
          "iopub.execute_input": "2022-11-20T08:56:04.895122Z",
          "iopub.status.busy": "2022-11-20T08:56:04.894853Z",
          "iopub.status.idle": "2022-11-20T08:56:05.191564Z",
          "shell.execute_reply": "2022-11-20T08:56:05.190530Z"
        },
        "papermill": {
          "duration": 0.310739,
          "end_time": "2022-11-20T08:56:05.193696",
          "exception": false,
          "start_time": "2022-11-20T08:56:04.882957",
          "status": "completed"
        },
        "tags": [],
        "id": "ebf8c78b",
        "outputId": "91b610c4-2d0d-4470-9b3c-3a120285958c"
      },
      "outputs": [
        {
          "data": {
            "text/html": [
              "<div>\n",
              "<style scoped>\n",
              "    .dataframe tbody tr th:only-of-type {\n",
              "        vertical-align: middle;\n",
              "    }\n",
              "\n",
              "    .dataframe tbody tr th {\n",
              "        vertical-align: top;\n",
              "    }\n",
              "\n",
              "    .dataframe thead th {\n",
              "        text-align: right;\n",
              "    }\n",
              "</style>\n",
              "<table border=\"1\" class=\"dataframe\">\n",
              "  <thead>\n",
              "    <tr style=\"text-align: right;\">\n",
              "      <th></th>\n",
              "      <th>Id</th>\n",
              "      <th>isFraud</th>\n",
              "    </tr>\n",
              "  </thead>\n",
              "  <tbody>\n",
              "    <tr>\n",
              "      <th>0</th>\n",
              "      <td>0</td>\n",
              "      <td>0.196235</td>\n",
              "    </tr>\n",
              "    <tr>\n",
              "      <th>1</th>\n",
              "      <td>1</td>\n",
              "      <td>0.520155</td>\n",
              "    </tr>\n",
              "    <tr>\n",
              "      <th>2</th>\n",
              "      <td>2</td>\n",
              "      <td>0.328302</td>\n",
              "    </tr>\n",
              "    <tr>\n",
              "      <th>3</th>\n",
              "      <td>3</td>\n",
              "      <td>0.199621</td>\n",
              "    </tr>\n",
              "    <tr>\n",
              "      <th>4</th>\n",
              "      <td>4</td>\n",
              "      <td>0.412012</td>\n",
              "    </tr>\n",
              "    <tr>\n",
              "      <th>5</th>\n",
              "      <td>5</td>\n",
              "      <td>0.271088</td>\n",
              "    </tr>\n",
              "    <tr>\n",
              "      <th>6</th>\n",
              "      <td>6</td>\n",
              "      <td>0.183502</td>\n",
              "    </tr>\n",
              "    <tr>\n",
              "      <th>7</th>\n",
              "      <td>7</td>\n",
              "      <td>0.597227</td>\n",
              "    </tr>\n",
              "    <tr>\n",
              "      <th>8</th>\n",
              "      <td>8</td>\n",
              "      <td>0.428828</td>\n",
              "    </tr>\n",
              "    <tr>\n",
              "      <th>9</th>\n",
              "      <td>9</td>\n",
              "      <td>0.015352</td>\n",
              "    </tr>\n",
              "  </tbody>\n",
              "</table>\n",
              "</div>"
            ],
            "text/plain": [
              "   Id   isFraud\n",
              "0   0  0.196235\n",
              "1   1  0.520155\n",
              "2   2  0.328302\n",
              "3   3  0.199621\n",
              "4   4  0.412012\n",
              "5   5  0.271088\n",
              "6   6  0.183502\n",
              "7   7  0.597227\n",
              "8   8  0.428828\n",
              "9   9  0.015352"
            ]
          },
          "execution_count": 40,
          "metadata": {},
          "output_type": "execute_result"
        }
      ],
      "source": [
        "# merge prediction results with test transactions\n",
        "sample_submission = pd.read_csv(\"../input/submission/sample_submission.csv\")\n",
        "sample_submission['isFraud']=lr_test_proba \n",
        "sample_submission.head(10)\n",
        "sample_submission.to_csv('Decision_Tree.csv', index=False)\n",
        "sample_submission.head(10)"
      ]
    },
    {
      "cell_type": "markdown",
      "id": "39ede64d",
      "metadata": {
        "papermill": {
          "duration": 0.009263,
          "end_time": "2022-11-20T08:54:10.268163",
          "exception": false,
          "start_time": "2022-11-20T08:54:10.258900",
          "status": "completed"
        },
        "tags": [],
        "id": "39ede64d"
      },
      "source": [
        "## Random Forest"
      ]
    },
    {
      "cell_type": "code",
      "execution_count": null,
      "id": "0be87fe5",
      "metadata": {
        "execution": {
          "iopub.execute_input": "2022-11-20T08:54:10.287899Z",
          "iopub.status.busy": "2022-11-20T08:54:10.287588Z",
          "iopub.status.idle": "2022-11-20T08:54:15.573638Z",
          "shell.execute_reply": "2022-11-20T08:54:15.572633Z"
        },
        "papermill": {
          "duration": 5.299111,
          "end_time": "2022-11-20T08:54:15.576518",
          "exception": false,
          "start_time": "2022-11-20T08:54:10.277407",
          "status": "completed"
        },
        "tags": [],
        "id": "0be87fe5",
        "outputId": "29b8a7ba-bf19-43db-aab0-55d291d8e0e7"
      },
      "outputs": [
        {
          "name": "stderr",
          "output_type": "stream",
          "text": [
            "[Parallel(n_jobs=1)]: Using backend SequentialBackend with 1 concurrent workers.\n"
          ]
        },
        {
          "name": "stdout",
          "output_type": "stream",
          "text": [
            "building tree 1 of 10\n"
          ]
        },
        {
          "name": "stderr",
          "output_type": "stream",
          "text": [
            "[Parallel(n_jobs=1)]: Done   1 out of   1 | elapsed:    0.5s remaining:    0.0s\n"
          ]
        },
        {
          "name": "stdout",
          "output_type": "stream",
          "text": [
            "building tree 2 of 10\n",
            "building tree 3 of 10\n",
            "building tree 4 of 10\n",
            "building tree 5 of 10\n",
            "building tree 6 of 10\n",
            "building tree 7 of 10\n",
            "building tree 8 of 10\n",
            "building tree 9 of 10\n",
            "building tree 10 of 10\n"
          ]
        },
        {
          "name": "stderr",
          "output_type": "stream",
          "text": [
            "[Parallel(n_jobs=1)]: Done  10 out of  10 | elapsed:    5.0s finished\n",
            "[Parallel(n_jobs=1)]: Using backend SequentialBackend with 1 concurrent workers.\n",
            "[Parallel(n_jobs=1)]: Done   1 out of   1 | elapsed:    0.0s remaining:    0.0s\n",
            "[Parallel(n_jobs=1)]: Done  10 out of  10 | elapsed:    0.1s finished\n"
          ]
        }
      ],
      "source": [
        "from sklearn.ensemble import RandomForestClassifier\n",
        "clf = RandomForestClassifier(n_estimators=10, max_depth=6, n_jobs=1, verbose=2)\n",
        "\n",
        "\n",
        "clf.fit(X_train, y_train)\n",
        "\n",
        "\n",
        " \n",
        "y_preds = clf.predict(X_test)"
      ]
    },
    {
      "cell_type": "code",
      "execution_count": null,
      "id": "167e3b83",
      "metadata": {
        "execution": {
          "iopub.execute_input": "2022-11-20T08:54:15.599224Z",
          "iopub.status.busy": "2022-11-20T08:54:15.598914Z",
          "iopub.status.idle": "2022-11-20T08:54:15.774897Z",
          "shell.execute_reply": "2022-11-20T08:54:15.773982Z"
        },
        "papermill": {
          "duration": 0.189207,
          "end_time": "2022-11-20T08:54:15.777068",
          "exception": false,
          "start_time": "2022-11-20T08:54:15.587861",
          "status": "completed"
        },
        "tags": [],
        "id": "167e3b83",
        "outputId": "03756da8-bcdc-479a-aad2-38ded3713579"
      },
      "outputs": [
        {
          "data": {
            "text/html": [
              "<div>\n",
              "<style scoped>\n",
              "    .dataframe tbody tr th:only-of-type {\n",
              "        vertical-align: middle;\n",
              "    }\n",
              "\n",
              "    .dataframe tbody tr th {\n",
              "        vertical-align: top;\n",
              "    }\n",
              "\n",
              "    .dataframe thead th {\n",
              "        text-align: right;\n",
              "    }\n",
              "</style>\n",
              "<table border=\"1\" class=\"dataframe\">\n",
              "  <thead>\n",
              "    <tr style=\"text-align: right;\">\n",
              "      <th></th>\n",
              "      <th>Id</th>\n",
              "      <th>isFraud</th>\n",
              "    </tr>\n",
              "  </thead>\n",
              "  <tbody>\n",
              "    <tr>\n",
              "      <th>0</th>\n",
              "      <td>0</td>\n",
              "      <td>0</td>\n",
              "    </tr>\n",
              "    <tr>\n",
              "      <th>1</th>\n",
              "      <td>1</td>\n",
              "      <td>0</td>\n",
              "    </tr>\n",
              "    <tr>\n",
              "      <th>2</th>\n",
              "      <td>2</td>\n",
              "      <td>0</td>\n",
              "    </tr>\n",
              "    <tr>\n",
              "      <th>3</th>\n",
              "      <td>3</td>\n",
              "      <td>0</td>\n",
              "    </tr>\n",
              "    <tr>\n",
              "      <th>4</th>\n",
              "      <td>4</td>\n",
              "      <td>0</td>\n",
              "    </tr>\n",
              "    <tr>\n",
              "      <th>5</th>\n",
              "      <td>5</td>\n",
              "      <td>0</td>\n",
              "    </tr>\n",
              "    <tr>\n",
              "      <th>6</th>\n",
              "      <td>6</td>\n",
              "      <td>0</td>\n",
              "    </tr>\n",
              "    <tr>\n",
              "      <th>7</th>\n",
              "      <td>7</td>\n",
              "      <td>0</td>\n",
              "    </tr>\n",
              "    <tr>\n",
              "      <th>8</th>\n",
              "      <td>8</td>\n",
              "      <td>0</td>\n",
              "    </tr>\n",
              "    <tr>\n",
              "      <th>9</th>\n",
              "      <td>9</td>\n",
              "      <td>0</td>\n",
              "    </tr>\n",
              "  </tbody>\n",
              "</table>\n",
              "</div>"
            ],
            "text/plain": [
              "   Id  isFraud\n",
              "0   0        0\n",
              "1   1        0\n",
              "2   2        0\n",
              "3   3        0\n",
              "4   4        0\n",
              "5   5        0\n",
              "6   6        0\n",
              "7   7        0\n",
              "8   8        0\n",
              "9   9        0"
            ]
          },
          "execution_count": 30,
          "metadata": {},
          "output_type": "execute_result"
        }
      ],
      "source": [
        "# merge prediction results with test transactions\n",
        "sample_submission = pd.read_csv(\"../input/submission/sample_submission.csv\")\n",
        "sample_submission['isFraud']=y_preds\n",
        "sample_submission.head(10)\n",
        "sample_submission.to_csv('Random_forest.csv', index=False)\n",
        "sample_submission.head(10)"
      ]
    },
    {
      "cell_type": "code",
      "execution_count": null,
      "id": "d787a173",
      "metadata": {
        "execution": {
          "iopub.execute_input": "2022-11-20T08:54:15.799123Z",
          "iopub.status.busy": "2022-11-20T08:54:15.798839Z",
          "iopub.status.idle": "2022-11-20T08:54:15.824066Z",
          "shell.execute_reply": "2022-11-20T08:54:15.822875Z"
        },
        "papermill": {
          "duration": 0.03982,
          "end_time": "2022-11-20T08:54:15.827447",
          "exception": false,
          "start_time": "2022-11-20T08:54:15.787627",
          "status": "completed"
        },
        "tags": [],
        "id": "d787a173",
        "outputId": "957b3104-52ec-4751-e0ff-81a1859adaf5"
      },
      "outputs": [
        {
          "name": "stdout",
          "output_type": "stream",
          "text": [
            "AUC: 0.583\n"
          ]
        }
      ],
      "source": [
        "# accuracy on y_test \n",
        "auc = roc_auc_score(y_test, y_preds)\n",
        "print('AUC: %.3f' % auc)"
      ]
    }
  ],
  "metadata": {
    "kernelspec": {
      "display_name": "Python 3",
      "language": "python",
      "name": "python3"
    },
    "language_info": {
      "codemirror_mode": {
        "name": "ipython",
        "version": 3
      },
      "file_extension": ".py",
      "mimetype": "text/x-python",
      "name": "python",
      "nbconvert_exporter": "python",
      "pygments_lexer": "ipython3",
      "version": "3.7.12"
    },
    "papermill": {
      "default_parameters": {},
      "duration": 317.320448,
      "end_time": "2022-11-20T08:56:07.925797",
      "environment_variables": {},
      "exception": null,
      "input_path": "__notebook__.ipynb",
      "output_path": "__notebook__.ipynb",
      "parameters": {},
      "start_time": "2022-11-20T08:50:50.605349",
      "version": "2.3.4"
    },
    "colab": {
      "provenance": [],
      "collapsed_sections": [
        "871fecec",
        "848cdeb7",
        "00549b57",
        "39ede64d"
      ]
    }
  },
  "nbformat": 4,
  "nbformat_minor": 5
}